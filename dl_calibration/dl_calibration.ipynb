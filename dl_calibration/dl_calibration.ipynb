{
 "cells": [
  {
   "cell_type": "code",
   "execution_count": null,
   "id": "43d7a86d",
   "metadata": {},
   "outputs": [],
   "source": [
    "%matplotlib inline\n",
    "%matplotlib notebook\n",
    "import sys\n",
    "import numpy as np\n",
    "import matplotlib.pyplot as plt\n",
    "from matplotlib import animation, rc\n",
    "from math import sin, cos, atan2, pi\n",
    "from IPython.display import display, Math, Latex, Markdown, HTML\n",
    "from mpl_toolkits.mplot3d import Axes3D\n",
    "import os\n",
    "import numpy as np\n",
    "from matplotlib import pyplot as plt\n"
   ]
  },
  {
   "cell_type": "code",
   "execution_count": null,
   "id": "5af4546a",
   "metadata": {},
   "outputs": [],
   "source": [
    "#Lidar data\n",
    "\n",
    "Q = np.array([[4.00568,   1.01154,     0.0488547],\n",
    "               [4.13862,  0.527872,    0.0469039],\n",
    "               [4.11675, -1.17755,    -0.0615494],\n",
    "               [4.06894, -1.19078,    -0.068076 ],\n",
    "               [3.99535, -0.200271,   -0.0157148],\n",
    "               [4.0255,   0.0652525,  -0.0162389],\n",
    "               [3.97347,  0.0676774,  -0.0135881],\n",
    "               [3.90745, -0.484574,    0.0426793],\n",
    "               [13.9051,  0.0448338,  -0.336292],\n",
    "               [13.9114,  0.0448533,  -0.336446],\n",
    "               [13.9224,  0.0448875,  -0.336718]])  \n",
    "\n",
    "   \n",
    "#Radar data   \n",
    "P = np.array([[3.97602,   1.04457,     0.273048 ],\n",
    "               [4.02976,  0.531959,    0.352758 ],\n",
    "               [4.01667, -1.22495,     0.0762318],\n",
    "               [4.01538, -1.21231,     0.216883 ],\n",
    "               [3.95006, -0.265133,    0.0912238],\n",
    "               [3.9915,   0.0445874,   0.256736 ], \n",
    "               [3.87986, -0.0216695,   0.0243786],\n",
    "               [3.84512, -0.518514,   -0.0243786],\n",
    "               [13.602,  -0.189933,    0.998969],\n",
    "               [13.6034, -0.189952,    0.979974], \n",
    "               [13.6034, -0.189952,    0.979974]]) \n",
    "\n",
    "PLx = Q[:,0]\n",
    "PLy = Q[:,1]\n",
    "PLz = Q[:,2]\n",
    "\n",
    "PRx = P[:,0]\n",
    "PRy = P[:,1]\n",
    "PRz = P[:,2]\n",
    "\n",
    "print(P.shape)\n",
    "print(Q.shape)\n"
   ]
  },
  {
   "cell_type": "code",
   "execution_count": null,
   "id": "f36d05fd",
   "metadata": {
    "scrolled": true
   },
   "outputs": [],
   "source": [
    "fig = plt.figure()\n",
    "ax = fig.add_subplot(111, projection='3d')\n",
    "\n",
    "ax.scatter(PLx, PLy, PLz, c='r', marker='o')\n",
    "ax.scatter(PRx, PRy, PRz, c='b', marker='^')\n",
    "\n",
    "ax.set_xlabel('X Label')\n",
    "ax.set_ylabel('Y Label')\n",
    "ax.set_zlabel('Z Label')\n",
    "\n",
    "plt.show()"
   ]
  },
  {
   "cell_type": "code",
   "execution_count": null,
   "id": "b7478031",
   "metadata": {},
   "outputs": [],
   "source": [
    "size = P.shape[1]\n",
    "col=[\"red\",\"blue\",\"Maroon\",\"yellow\",\"olive\",\"green\"]\n",
    "\n",
    "for i in range(size):\n",
    "     \n",
    "  #col.append(np.random.random(),np.random.random(),np.random.random())\n",
    "  print(col[i])"
   ]
  },
  {
   "cell_type": "code",
   "execution_count": null,
   "id": "73c5c615",
   "metadata": {},
   "outputs": [],
   "source": [
    "def plot_data(data_1, data_2, label_1, label_2, markersize_1=8, markersize_2=8):\n",
    "    fig = plt.figure(figsize=(10, 6))\n",
    "    ax = fig.add_subplot(111, projection='3d')\n",
    "    size = P.shape[1]\n",
    "    ax.axis('auto')\n",
    "    \n",
    "    ####for i in range(size):\n",
    "    col = (np.random.random(), np.random.random(), np.random.random())\n",
    "    if data_1 is not None:\n",
    "        x_p, y_p, z_p = data_1\n",
    "        ax.plot(x_p,y_p,z_p,'o', color='blue',markersize=markersize_1,label=label_1)    \n",
    "    if data_2 is not None: \n",
    "        x_q, y_q, z_q = data_2\n",
    "        ax.plot(x_q,y_q,z_q,'o', color='red',markersize=markersize_2,label=label_2) \n",
    "        \n",
    "    ax.legend()\n",
    "    ax.set_xlabel('x [m]',fontsize=15)\n",
    "    ax.set_ylabel('y [m]',fontsize=15)\n",
    "    ax.set_zlabel('z [m]',fontsize=15)\n",
    "    return ax, fig"
   ]
  },
  {
   "cell_type": "code",
   "execution_count": null,
   "id": "228036c5",
   "metadata": {},
   "outputs": [],
   "source": [
    "def plot_values(values, label):\n",
    "    fig = plt.figure(figsize=(10, 4))\n",
    "    ax = fig.add_subplot(111)\n",
    "    ax.plot(values, label=label)\n",
    "    ax.legend()\n",
    "    ax.grid(True)\n",
    "    plt.show()"
   ]
  },
  {
   "cell_type": "code",
   "execution_count": null,
   "id": "88f1c39b",
   "metadata": {
    "scrolled": true
   },
   "outputs": [],
   "source": [
    "print(P.T.shape)\n",
    "P=P.T\n",
    "Q=Q.T\n",
    "print(P)\n",
    "plot_data(P, Q, \"Radar\", \"Lidar\")\n",
    "plt.show()"
   ]
  },
  {
   "cell_type": "code",
   "execution_count": null,
   "id": "c4b7047f",
   "metadata": {},
   "outputs": [],
   "source": [
    "\n",
    "def get_correspondence_indices(P, Q):\n",
    "    \"\"\"For each point in P find closest one in Q.\"\"\"\n",
    "    p_size = P.shape[1]\n",
    "    q_size = Q.shape[1]\n",
    "    correspondences = []\n",
    "    for i in range(p_size):\n",
    "        correspondences.append((i, i))\n",
    "        for j in range(q_size):\n",
    "            q_point = Q[:, i]\n",
    "    return correspondences\n",
    "\n"
   ]
  },
  {
   "cell_type": "code",
   "execution_count": null,
   "id": "cdfb2d12",
   "metadata": {},
   "outputs": [],
   "source": [
    "def draw_correspondeces(P, Q, correspondences, ax):\n",
    "    label_added = False\n",
    "    for i, j in correspondences:\n",
    "        x = [P[0, i], Q[0, i]]\n",
    "        y = [P[1, i], Q[1, i]]\n",
    "        z = [P[2, i], Q[2, i]]\n",
    "        if not label_added:\n",
    "            ax.plot(x, y,z, color='grey', label='correspondences')\n",
    "            label_added = True\n",
    "        else:\n",
    "            ax.plot(x, y, z, color='grey')\n",
    "    ax.legend()\n"
   ]
  },
  {
   "cell_type": "code",
   "execution_count": null,
   "id": "b343b38f",
   "metadata": {
    "scrolled": true
   },
   "outputs": [],
   "source": [
    "def center_data(data, exclude_indices=[]):\n",
    "    reduced_data = np.delete(data, exclude_indices, axis=1)\n",
    "    center = np.array([reduced_data.mean(axis=1)]).T\n",
    "    return center, (data - center)\n",
    "\n",
    "center_of_P, P_centered = center_data(P)\n",
    "center_of_Q, Q_centered = center_data(Q)\n",
    "ax = plot_data(P_centered, Q_centered,\n",
    "               label_1='Radar',\n",
    "               label_2='Lidar')\n",
    "plt.show()"
   ]
  },
  {
   "cell_type": "code",
   "execution_count": null,
   "id": "b7383ac2",
   "metadata": {},
   "outputs": [],
   "source": [
    "correspondences = get_correspondence_indices(P, Q)\n",
    "ax,fig = plot_data(P, Q, \"Radar\", \"Lidar\")\n",
    "draw_correspondeces(P, Q, correspondences, ax)\n",
    "plt.show()\n",
    "\n",
    "\n",
    "\n",
    "\n",
    "\n"
   ]
  },
  {
   "cell_type": "code",
   "execution_count": null,
   "id": "7cdc904a",
   "metadata": {},
   "outputs": [],
   "source": [
    "def compute_cross_covariance(P, Q, correspondences, kernel=lambda diff: 1.0):\n",
    "    cov = np.zeros((3, 3))\n",
    "    exclude_indices = []\n",
    "    for i, j in correspondences:\n",
    "        p_point = P[:, [i]]\n",
    "        q_point = Q[:, [i]]\n",
    "        weight = kernel(p_point - q_point)\n",
    "        if weight < 0.01: exclude_indices.append(i)\n",
    "        cov += weight * p_point.dot(q_point.T)\n",
    "    return cov, exclude_indices\n",
    "\n",
    "cov, _ = compute_cross_covariance(P_centered, Q_centered, correspondences)\n",
    "print(cov)"
   ]
  },
  {
   "cell_type": "code",
   "execution_count": null,
   "id": "f2bbe00b",
   "metadata": {},
   "outputs": [],
   "source": [
    "U, S, V_T = np.linalg.svd(cov)\n",
    "R_found = U.dot(V_T)  \n",
    "t_found = center_of_Q - R_found.dot(center_of_P)\n",
    "\n",
    "print(\"R_found =\\n\", R_found)\n",
    "print(\"t_found =\\n\", t_found)\n",
    "\n"
   ]
  },
  {
   "cell_type": "code",
   "execution_count": null,
   "id": "0230f5dd",
   "metadata": {},
   "outputs": [],
   "source": [
    "from scipy.spatial.transform import Rotation   \n",
    "r =  Rotation.from_matrix(R_found)\n",
    "angles = r.as_euler(\"xyz\",degrees=True)\n",
    "\n",
    "print(\"Euler angles, [x,y,z] \", angles)\n",
    "\n"
   ]
  },
  {
   "cell_type": "code",
   "execution_count": null,
   "id": "ff6d1da6",
   "metadata": {
    "scrolled": true
   },
   "outputs": [],
   "source": [
    "P_corrected = R_found.dot(P) +t_found\n",
    "ax = plot_data(P_corrected, Q, label_1='P corrected', label_2='Q')\n",
    "plt.show()\n",
    "\n",
    "correspondences = get_correspondence_indices(P_corrected, Q)\n",
    "\n",
    "\n",
    "ax,fig = plot_data(P_corrected, Q, \"Radar\", \"Lidar\")\n",
    "draw_correspondeces(P_corrected, Q, correspondences, ax)\n",
    "\n",
    "plt.show()"
   ]
  },
  {
   "cell_type": "code",
   "execution_count": null,
   "id": "187a2271",
   "metadata": {},
   "outputs": [],
   "source": [
    "def plot_error(value1,value2,label1,label2):\n",
    "    fig = plt.figure(figsize=(10, 4))\n",
    "    ax = fig.add_subplot(111)\n",
    "    ax.plot(value1, label=label1, color='red',marker='o')\n",
    "    ax.plot(value2, label=label2, color='blue',marker='o') \n",
    " \n",
    "    ax.legend()\n",
    "    ax.grid(True)\n",
    "\n",
    "    plt.xlabel(\"Images\",fontsize=15,)\n",
    "    plt.ylabel(\"Norm [m]\",fontsize=15) \n",
    "    \n",
    "    plt.show()"
   ]
  },
  {
   "cell_type": "code",
   "execution_count": null,
   "id": "43befb84",
   "metadata": {
    "scrolled": true
   },
   "outputs": [],
   "source": [
    "import matplotlib.pyplot as pt\n",
    "\n",
    "norm_values1 = []\n",
    "error1=P-Q\n",
    "for i in range(P.shape[1]):\n",
    "    print(\"\\n\") \n",
    "    values1 = []\n",
    "    for j in range(P.shape[0]):\n",
    "        values1.append(error1[j][i])\n",
    "        if(j==2):\n",
    "            norm_values1.append(np.linalg.norm(np.array(values1)))\n",
    "            \n",
    "PQe=np.array(norm_values1)\n",
    "\n",
    "norm_values2 = []\n",
    "error2=P_corrected-Q\n",
    "for i in range(P_corrected.shape[1]):\n",
    "    print(\"\\n\") \n",
    "    values2 = []\n",
    "    for j in range(P_corrected.shape[0]):\n",
    "        values2.append(error2[j][i])\n",
    "        if(j==2):\n",
    "            norm_values2.append(np.linalg.norm(np.array(values2)))\n",
    "            \n",
    "P_correctedQe=np.array(norm_values2)\n",
    "\n",
    "plot_error(PQe,P_correctedQe, label1=\"Norm_before_correction,     mean = 0.3390361025304447 \",label2=\"Norm_after_correction,        mean = 0.1300374920047055\")\n",
    "\n",
    "meanPQe  = np.mean(PQe)\n",
    "#print(meanPQe)\n",
    "\n",
    "meanP_correctedQe  = np.mean(P_correctedQe)\n",
    "#print(meanP_correctedQe)\n",
    "\n"
   ]
  },
  {
   "cell_type": "code",
   "execution_count": null,
   "id": "8bafe68a",
   "metadata": {},
   "outputs": [],
   "source": []
  }
 ],
 "metadata": {
  "kernelspec": {
   "display_name": "Python 3 (ipykernel)",
   "language": "python",
   "name": "python3"
  },
  "language_info": {
   "codemirror_mode": {
    "name": "ipython",
    "version": 3
   },
   "file_extension": ".py",
   "mimetype": "text/x-python",
   "name": "python",
   "nbconvert_exporter": "python",
   "pygments_lexer": "ipython3",
   "version": "3.8.12"
  }
 },
 "nbformat": 4,
 "nbformat_minor": 5
}
